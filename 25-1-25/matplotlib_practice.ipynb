{
 "cells": [
  {
   "cell_type": "code",
   "execution_count": 5,
   "id": "0e5ea1ee",
   "metadata": {},
   "outputs": [],
   "source": [
    "import pandas as pd\n",
    "import matplotlib.pyplot as plt"
   ]
  },
  {
   "cell_type": "code",
   "execution_count": 6,
   "id": "06ec106b",
   "metadata": {},
   "outputs": [],
   "source": [
    "path='GlobalLandTemperaturesByCity.csv'\n",
    "df=pd.read_csv(path)"
   ]
  },
  {
   "cell_type": "code",
   "execution_count": 7,
   "id": "d1f98682",
   "metadata": {},
   "outputs": [
    {
     "data": {
      "text/html": [
       "<div>\n",
       "<style scoped>\n",
       "    .dataframe tbody tr th:only-of-type {\n",
       "        vertical-align: middle;\n",
       "    }\n",
       "\n",
       "    .dataframe tbody tr th {\n",
       "        vertical-align: top;\n",
       "    }\n",
       "\n",
       "    .dataframe thead th {\n",
       "        text-align: right;\n",
       "    }\n",
       "</style>\n",
       "<table border=\"1\" class=\"dataframe\">\n",
       "  <thead>\n",
       "    <tr style=\"text-align: right;\">\n",
       "      <th></th>\n",
       "      <th>dt</th>\n",
       "      <th>AverageTemperature</th>\n",
       "      <th>AverageTemperatureUncertainty</th>\n",
       "      <th>City</th>\n",
       "      <th>Country</th>\n",
       "      <th>Latitude</th>\n",
       "      <th>Longitude</th>\n",
       "    </tr>\n",
       "  </thead>\n",
       "  <tbody>\n",
       "    <tr>\n",
       "      <th>0</th>\n",
       "      <td>1743-11-01</td>\n",
       "      <td>6.068</td>\n",
       "      <td>1.737</td>\n",
       "      <td>Århus</td>\n",
       "      <td>Denmark</td>\n",
       "      <td>57.05N</td>\n",
       "      <td>10.33E</td>\n",
       "    </tr>\n",
       "    <tr>\n",
       "      <th>1</th>\n",
       "      <td>1743-12-01</td>\n",
       "      <td>NaN</td>\n",
       "      <td>NaN</td>\n",
       "      <td>Århus</td>\n",
       "      <td>Denmark</td>\n",
       "      <td>57.05N</td>\n",
       "      <td>10.33E</td>\n",
       "    </tr>\n",
       "    <tr>\n",
       "      <th>2</th>\n",
       "      <td>1744-01-01</td>\n",
       "      <td>NaN</td>\n",
       "      <td>NaN</td>\n",
       "      <td>Århus</td>\n",
       "      <td>Denmark</td>\n",
       "      <td>57.05N</td>\n",
       "      <td>10.33E</td>\n",
       "    </tr>\n",
       "    <tr>\n",
       "      <th>3</th>\n",
       "      <td>1744-02-01</td>\n",
       "      <td>NaN</td>\n",
       "      <td>NaN</td>\n",
       "      <td>Århus</td>\n",
       "      <td>Denmark</td>\n",
       "      <td>57.05N</td>\n",
       "      <td>10.33E</td>\n",
       "    </tr>\n",
       "    <tr>\n",
       "      <th>4</th>\n",
       "      <td>1744-03-01</td>\n",
       "      <td>NaN</td>\n",
       "      <td>NaN</td>\n",
       "      <td>Århus</td>\n",
       "      <td>Denmark</td>\n",
       "      <td>57.05N</td>\n",
       "      <td>10.33E</td>\n",
       "    </tr>\n",
       "  </tbody>\n",
       "</table>\n",
       "</div>"
      ],
      "text/plain": [
       "           dt  AverageTemperature  AverageTemperatureUncertainty   City  \\\n",
       "0  1743-11-01               6.068                          1.737  Århus   \n",
       "1  1743-12-01                 NaN                            NaN  Århus   \n",
       "2  1744-01-01                 NaN                            NaN  Århus   \n",
       "3  1744-02-01                 NaN                            NaN  Århus   \n",
       "4  1744-03-01                 NaN                            NaN  Århus   \n",
       "\n",
       "   Country Latitude Longitude  \n",
       "0  Denmark   57.05N    10.33E  \n",
       "1  Denmark   57.05N    10.33E  \n",
       "2  Denmark   57.05N    10.33E  \n",
       "3  Denmark   57.05N    10.33E  \n",
       "4  Denmark   57.05N    10.33E  "
      ]
     },
     "execution_count": 7,
     "metadata": {},
     "output_type": "execute_result"
    }
   ],
   "source": [
    "df.head()"
   ]
  },
  {
   "cell_type": "code",
   "execution_count": 5,
   "id": "db9e90ae",
   "metadata": {},
   "outputs": [
    {
     "data": {
      "text/plain": [
       "(8599212, 7)"
      ]
     },
     "execution_count": 5,
     "metadata": {},
     "output_type": "execute_result"
    }
   ],
   "source": [
    "df.shape"
   ]
  },
  {
   "cell_type": "code",
   "execution_count": 18,
   "id": "785d96a4",
   "metadata": {},
   "outputs": [
    {
     "name": "stdout",
     "output_type": "stream",
     "text": [
      "<class 'pandas.core.frame.DataFrame'>\n",
      "RangeIndex: 8599212 entries, 0 to 8599211\n",
      "Data columns (total 7 columns):\n",
      " #   Column                         Dtype  \n",
      "---  ------                         -----  \n",
      " 0   dt                             object \n",
      " 1   AverageTemperature             float64\n",
      " 2   AverageTemperatureUncertainty  float64\n",
      " 3   City                           object \n",
      " 4   Country                        object \n",
      " 5   Latitude                       object \n",
      " 6   Longitude                      object \n",
      "dtypes: float64(2), object(5)\n",
      "memory usage: 459.2+ MB\n"
     ]
    }
   ],
   "source": [
    "df.info()"
   ]
  },
  {
   "cell_type": "code",
   "execution_count": 19,
   "id": "0f99761a",
   "metadata": {},
   "outputs": [],
   "source": [
    "df['dt']=pd.to_datetime(df['dt'])"
   ]
  },
  {
   "cell_type": "code",
   "execution_count": 20,
   "id": "e7041e2d",
   "metadata": {},
   "outputs": [],
   "source": [
    "df['Year']=df['dt'].dt.year"
   ]
  },
  {
   "cell_type": "code",
   "execution_count": 21,
   "id": "f581ad24",
   "metadata": {},
   "outputs": [
    {
     "data": {
      "text/plain": [
       "16.72743263625063"
      ]
     },
     "execution_count": 21,
     "metadata": {},
     "output_type": "execute_result"
    }
   ],
   "source": [
    "df['AverageTemperature'].mean()"
   ]
  },
  {
   "cell_type": "code",
   "execution_count": 22,
   "id": "91a87bc7",
   "metadata": {},
   "outputs": [
    {
     "data": {
      "text/plain": [
       "0    26.544\n",
       "Name: AverageTemperature, dtype: float64"
      ]
     },
     "execution_count": 22,
     "metadata": {},
     "output_type": "execute_result"
    }
   ],
   "source": [
    "df['AverageTemperature'].mode()"
   ]
  },
  {
   "cell_type": "code",
   "execution_count": 23,
   "id": "552448d5",
   "metadata": {},
   "outputs": [
    {
     "data": {
      "text/plain": [
       "18.831"
      ]
     },
     "execution_count": 23,
     "metadata": {},
     "output_type": "execute_result"
    }
   ],
   "source": [
    "df['AverageTemperature'].median()"
   ]
  },
  {
   "cell_type": "markdown",
   "id": "b126a0d7",
   "metadata": {},
   "source": [
    "### 1) Line plot"
   ]
  },
  {
   "cell_type": "markdown",
   "id": "545f86b7",
   "metadata": {},
   "source": [
    "##### Average temperature in a city changed over the year \n",
    "###### Use Case: Analyze trends in time-series data"
   ]
  },
  {
   "cell_type": "code",
   "execution_count": 24,
   "id": "ad9478bb",
   "metadata": {},
   "outputs": [
    {
     "data": {
      "text/plain": [
       "364130"
      ]
     },
     "execution_count": 24,
     "metadata": {},
     "output_type": "execute_result"
    }
   ],
   "source": [
    "df['AverageTemperature'].isnull().sum()"
   ]
  },
  {
   "cell_type": "code",
   "execution_count": 25,
   "id": "04314c23",
   "metadata": {},
   "outputs": [],
   "source": [
    "city=df.loc[df['City']=='New York'].copy()"
   ]
  },
  {
   "cell_type": "code",
   "execution_count": 26,
   "id": "52851458",
   "metadata": {},
   "outputs": [
    {
     "data": {
      "text/plain": [
       "3448"
      ]
     },
     "execution_count": 26,
     "metadata": {},
     "output_type": "execute_result"
    }
   ],
   "source": [
    "len(df['City'].unique())"
   ]
  },
  {
   "cell_type": "code",
   "execution_count": 27,
   "id": "66c8114e",
   "metadata": {},
   "outputs": [],
   "source": [
    "annual_avg_temp=city.groupby('Year')['AverageTemperature'].mean()\n"
   ]
  },
  {
   "cell_type": "code",
   "execution_count": 28,
   "id": "7b3fc5a0",
   "metadata": {},
   "outputs": [
    {
     "data": {
      "text/plain": [
       "array([1743, 1744, 1745, 1746, 1747, 1748, 1749, 1750, 1751, 1752, 1753,\n",
       "       1754, 1755, 1756, 1757, 1758, 1759, 1760, 1761, 1762, 1763, 1764,\n",
       "       1765, 1766, 1767, 1768, 1769, 1770, 1771, 1772, 1773, 1774, 1775,\n",
       "       1776, 1777, 1778, 1779, 1780, 1781, 1782, 1783, 1784, 1785, 1786,\n",
       "       1787, 1788, 1789, 1790, 1791, 1792, 1793, 1794, 1795, 1796, 1797,\n",
       "       1798, 1799, 1800, 1801, 1802, 1803, 1804, 1805, 1806, 1807, 1808,\n",
       "       1809, 1810, 1811, 1812, 1813, 1814, 1815, 1816, 1817, 1818, 1819,\n",
       "       1820, 1821, 1822, 1823, 1824, 1825, 1826, 1827, 1828, 1829, 1830,\n",
       "       1831, 1832, 1833, 1834, 1835, 1836, 1837, 1838, 1839, 1840, 1841,\n",
       "       1842, 1843, 1844, 1845, 1846, 1847, 1848, 1849, 1850, 1851, 1852,\n",
       "       1853, 1854, 1855, 1856, 1857, 1858, 1859, 1860, 1861, 1862, 1863,\n",
       "       1864, 1865, 1866, 1867, 1868, 1869, 1870, 1871, 1872, 1873, 1874,\n",
       "       1875, 1876, 1877, 1878, 1879, 1880, 1881, 1882, 1883, 1884, 1885,\n",
       "       1886, 1887, 1888, 1889, 1890, 1891, 1892, 1893, 1894, 1895, 1896,\n",
       "       1897, 1898, 1899, 1900, 1901, 1902, 1903, 1904, 1905, 1906, 1907,\n",
       "       1908, 1909, 1910, 1911, 1912, 1913, 1914, 1915, 1916, 1917, 1918,\n",
       "       1919, 1920, 1921, 1922, 1923, 1924, 1925, 1926, 1927, 1928, 1929,\n",
       "       1930, 1931, 1932, 1933, 1934, 1935, 1936, 1937, 1938, 1939, 1940,\n",
       "       1941, 1942, 1943, 1944, 1945, 1946, 1947, 1948, 1949, 1950, 1951,\n",
       "       1952, 1953, 1954, 1955, 1956, 1957, 1958, 1959, 1960, 1961, 1962,\n",
       "       1963, 1964, 1965, 1966, 1967, 1968, 1969, 1970, 1971, 1972, 1973,\n",
       "       1974, 1975, 1976, 1977, 1978, 1979, 1980, 1981, 1982, 1983, 1984,\n",
       "       1985, 1986, 1987, 1988, 1989, 1990, 1991, 1992, 1993, 1994, 1995,\n",
       "       1996, 1997, 1998, 1999, 2000, 2001, 2002, 2003, 2004, 2005, 2006,\n",
       "       2007, 2008, 2009, 2010, 2011, 2012, 2013])"
      ]
     },
     "execution_count": 28,
     "metadata": {},
     "output_type": "execute_result"
    }
   ],
   "source": [
    "years=city['Year'].unique()\n",
    "years"
   ]
  },
  {
   "cell_type": "code",
   "execution_count": 29,
   "id": "3a6028e0",
   "metadata": {},
   "outputs": [
    {
     "data": {
      "image/png": "[encoded data removed]",
      "text/plain": [
       "<Figure size 640x480 with 1 Axes>"
      ]
     },
     "metadata": {},
     "output_type": "display_data"
    }
   ],
   "source": [
    "plt.plot(years,annual_avg_temp,color='green')\n",
    "plt.xlabel('Years')\n",
    "plt.ylabel('Annaul Avg Temperature')\n",
    "plt.title('Average temperature in New York changed over the year ')\n",
    "plt.show()"
   ]
  },
  {
   "cell_type": "code",
   "execution_count": 30,
   "id": "f6ae9568",
   "metadata": {},
   "outputs": [],
   "source": [
    "import plotly.express as px"
   ]
  },
  {
   "cell_type": "code",
   "execution_count": 1,
   "id": "f2c98ec5",
   "metadata": {},
   "outputs": [],
   "source": [
    "# px.line(city,x=years,y=annual_avg_temp)"
   ]
  },
  {
   "cell_type": "markdown",
   "id": "127f6469",
   "metadata": {},
   "source": [
    "## 2) Bar plot\n",
    "#### Which countries had the highest average temparature in the dataset"
   ]
  },
  {
   "cell_type": "code",
   "execution_count": 84,
   "id": "29150a96",
   "metadata": {},
   "outputs": [
    {
     "data": {
      "text/plain": [
       "Country\n",
       "Djibouti         29.152790\n",
       "Niger            28.145552\n",
       "Sudan            28.072831\n",
       "Burkina Faso     27.815295\n",
       "Mali             27.590491\n",
       "Chad             27.189829\n",
       "Guinea Bissau    27.057185\n",
       "Mauritania       27.021905\n",
       "Benin            26.975880\n",
       "Cambodia         26.918136\n",
       "Name: AverageTemperature, dtype: float64"
      ]
     },
     "execution_count": 84,
     "metadata": {},
     "output_type": "execute_result"
    }
   ],
   "source": [
    "avg_temp_country=df.groupby('Country')['AverageTemperature'].mean()\n",
    "top_countries=avg_temp_country.sort_values(ascending=False).head(10)\n",
    "top_countries"
   ]
  },
  {
   "cell_type": "code",
   "execution_count": 88,
   "id": "5912dfdb",
   "metadata": {},
   "outputs": [
    {
     "data": {
      "image/png": "[encoded data removed]",
      "text/plain": [
       "<Figure size 1200x600 with 1 Axes>"
      ]
     },
     "metadata": {},
     "output_type": "display_data"
    }
   ],
   "source": [
    "plt.figure(figsize=(12,6))\n",
    "plt.bar(top_countries.index,top_countries.values)\n",
    "plt.xlabel('Countries')\n",
    "plt.ylabel('Avg Temperature')\n",
    "plt.show()"
   ]
  },
  {
   "cell_type": "code",
   "execution_count": 2,
   "id": "ac31255c",
   "metadata": {},
   "outputs": [],
   "source": [
    "# px.bar(x=top_countries.index,y=top_countries.values)"
   ]
  },
  {
   "cell_type": "markdown",
   "id": "8db65332",
   "metadata": {},
   "source": [
    "## 3) Histogram"
   ]
  },
  {
   "cell_type": "code",
   "execution_count": 107,
   "id": "75960687",
   "metadata": {},
   "outputs": [
    {
     "data": {
      "text/plain": [
       "0           6.068\n",
       "5           5.788\n",
       "6          10.644\n",
       "7          14.051\n",
       "8          16.082\n",
       "            ...  \n",
       "8599206     7.710\n",
       "8599207    11.464\n",
       "8599208    15.043\n",
       "8599209    18.775\n",
       "8599210    18.025\n",
       "Name: AverageTemperature, Length: 8235082, dtype: float64"
      ]
     },
     "execution_count": 107,
     "metadata": {},
     "output_type": "execute_result"
    }
   ],
   "source": [
    "avg_temp=df['AverageTemperature'].dropna()\n",
    "avg_temp"
   ]
  },
  {
   "cell_type": "code",
   "execution_count": 92,
   "id": "90704051",
   "metadata": {},
   "outputs": [
    {
     "data": {
      "text/plain": [
       "0           6.068\n",
       "5           5.788\n",
       "6          10.644\n",
       "7          14.051\n",
       "8          16.082\n",
       "            ...  \n",
       "8599206     7.710\n",
       "8599207    11.464\n",
       "8599208    15.043\n",
       "8599209    18.775\n",
       "8599210    18.025\n",
       "Name: AverageTemperature, Length: 8235082, dtype: float64"
      ]
     },
     "execution_count": 92,
     "metadata": {},
     "output_type": "execute_result"
    }
   ],
   "source": [
    "df['AverageTemperature'].dropna()"
   ]
  },
  {
   "cell_type": "code",
   "execution_count": 103,
   "id": "a501d3ba",
   "metadata": {},
   "outputs": [
    {
     "data": {
      "image/png": "[encoded data removed]",
      "text/plain": [
       "<Figure size 640x480 with 1 Axes>"
      ]
     },
     "metadata": {},
     "output_type": "display_data"
    }
   ],
   "source": [
    "# freq=[1,2,3,4]\n",
    "plt.hist(avg_temp,bins=30)\n",
    "plt.show()"
   ]
  },
  {
   "cell_type": "code",
   "execution_count": 3,
   "id": "7121486a",
   "metadata": {},
   "outputs": [],
   "source": [
    "# fig=px.histogram(avg_temp)\n",
    "\n",
    "# fig.show()"
   ]
  },
  {
   "cell_type": "code",
   "execution_count": 104,
   "id": "78368444",
   "metadata": {},
   "outputs": [],
   "source": [
    "import seaborn as sns"
   ]
  },
  {
   "cell_type": "code",
   "execution_count": 109,
   "id": "27882e7c",
   "metadata": {},
   "outputs": [
    {
     "data": {
      "text/plain": [
       "<Axes: xlabel='AverageTemperature', ylabel='Count'>"
      ]
     },
     "execution_count": 109,
     "metadata": {},
     "output_type": "execute_result"
    },
    {
     "data": {
      "image/png": "[encoded data removed]",
      "text/plain": [
       "<Figure size 640x480 with 1 Axes>"
      ]
     },
     "metadata": {},
     "output_type": "display_data"
    }
   ],
   "source": [
    "sns.histplot(avg_temp)"
   ]
  },
  {
   "cell_type": "markdown",
   "id": "f289d0d7",
   "metadata": {},
   "source": [
    "## 4) Scatter plot\n",
    "#### Is there a correlation between temperature and uncertanity in dataset"
   ]
  },
  {
   "cell_type": "code",
   "execution_count": null,
   "id": "3bb51834",
   "metadata": {},
   "outputs": [],
   "source": [
    "# AverageTemperature             \n",
    " # AverageTemperatureUncertainty "
   ]
  },
  {
   "cell_type": "code",
   "execution_count": 9,
   "id": "d7c93333",
   "metadata": {},
   "outputs": [
    {
     "data": {
      "text/plain": [
       "(8235082,)"
      ]
     },
     "execution_count": 9,
     "metadata": {},
     "output_type": "execute_result"
    }
   ],
   "source": [
    "avg_temp=df['AverageTemperature'].dropna()  # df[['AverageTemperatureUncertainty','AverageTemperature']].dropna()\n",
    "avg_temp.shape"
   ]
  },
  {
   "cell_type": "code",
   "execution_count": 8,
   "id": "7345828f",
   "metadata": {},
   "outputs": [],
   "source": [
    "temp_un=df['AverageTemperatureUncertainty'].dropna()"
   ]
  },
  {
   "cell_type": "code",
   "execution_count": 11,
   "id": "48ac8ea2",
   "metadata": {},
   "outputs": [
    {
     "data": {
      "image/png": "[encoded data removed]",
      "text/plain": [
       "<Figure size 640x480 with 1 Axes>"
      ]
     },
     "metadata": {},
     "output_type": "display_data"
    }
   ],
   "source": [
    "plt.scatter(avg_temp,temp_un)\n",
    "plt.xlabel('Temperature')\n",
    "plt.ylabel('Uncertanity')\n",
    "plt.show()"
   ]
  },
  {
   "cell_type": "markdown",
   "id": "571ffe66",
   "metadata": {},
   "source": [
    "## 5) Box plot\n",
    "**what is the spread of temperature for a specific country over a given period**"
   ]
  },
  {
   "cell_type": "code",
   "execution_count": 36,
   "id": "0ef6e787",
   "metadata": {},
   "outputs": [
    {
     "data": {
      "text/html": [
       "<div>\n",
       "<style scoped>\n",
       "    .dataframe tbody tr th:only-of-type {\n",
       "        vertical-align: middle;\n",
       "    }\n",
       "\n",
       "    .dataframe tbody tr th {\n",
       "        vertical-align: top;\n",
       "    }\n",
       "\n",
       "    .dataframe thead th {\n",
       "        text-align: right;\n",
       "    }\n",
       "</style>\n",
       "<table border=\"1\" class=\"dataframe\">\n",
       "  <thead>\n",
       "    <tr style=\"text-align: right;\">\n",
       "      <th></th>\n",
       "      <th>dt</th>\n",
       "      <th>AverageTemperature</th>\n",
       "      <th>AverageTemperatureUncertainty</th>\n",
       "      <th>City</th>\n",
       "      <th>Country</th>\n",
       "      <th>Latitude</th>\n",
       "      <th>Longitude</th>\n",
       "      <th>Year</th>\n",
       "    </tr>\n",
       "  </thead>\n",
       "  <tbody>\n",
       "    <tr>\n",
       "      <th>49880</th>\n",
       "      <td>1816-03-01</td>\n",
       "      <td>19.934</td>\n",
       "      <td>2.258</td>\n",
       "      <td>Abohar</td>\n",
       "      <td>India</td>\n",
       "      <td>29.74N</td>\n",
       "      <td>73.85E</td>\n",
       "      <td>1816</td>\n",
       "    </tr>\n",
       "    <tr>\n",
       "      <th>49881</th>\n",
       "      <td>1816-04-01</td>\n",
       "      <td>26.641</td>\n",
       "      <td>3.398</td>\n",
       "      <td>Abohar</td>\n",
       "      <td>India</td>\n",
       "      <td>29.74N</td>\n",
       "      <td>73.85E</td>\n",
       "      <td>1816</td>\n",
       "    </tr>\n",
       "    <tr>\n",
       "      <th>49882</th>\n",
       "      <td>1816-05-01</td>\n",
       "      <td>32.535</td>\n",
       "      <td>2.408</td>\n",
       "      <td>Abohar</td>\n",
       "      <td>India</td>\n",
       "      <td>29.74N</td>\n",
       "      <td>73.85E</td>\n",
       "      <td>1816</td>\n",
       "    </tr>\n",
       "    <tr>\n",
       "      <th>49883</th>\n",
       "      <td>1816-06-01</td>\n",
       "      <td>33.254</td>\n",
       "      <td>2.123</td>\n",
       "      <td>Abohar</td>\n",
       "      <td>India</td>\n",
       "      <td>29.74N</td>\n",
       "      <td>73.85E</td>\n",
       "      <td>1816</td>\n",
       "    </tr>\n",
       "    <tr>\n",
       "      <th>49884</th>\n",
       "      <td>1816-07-01</td>\n",
       "      <td>31.105</td>\n",
       "      <td>1.848</td>\n",
       "      <td>Abohar</td>\n",
       "      <td>India</td>\n",
       "      <td>29.74N</td>\n",
       "      <td>73.85E</td>\n",
       "      <td>1816</td>\n",
       "    </tr>\n",
       "    <tr>\n",
       "      <th>...</th>\n",
       "      <td>...</td>\n",
       "      <td>...</td>\n",
       "      <td>...</td>\n",
       "      <td>...</td>\n",
       "      <td>...</td>\n",
       "      <td>...</td>\n",
       "      <td>...</td>\n",
       "      <td>...</td>\n",
       "    </tr>\n",
       "    <tr>\n",
       "      <th>8385505</th>\n",
       "      <td>2013-05-01</td>\n",
       "      <td>29.286</td>\n",
       "      <td>0.516</td>\n",
       "      <td>Yelahanka</td>\n",
       "      <td>India</td>\n",
       "      <td>13.66N</td>\n",
       "      <td>76.79E</td>\n",
       "      <td>2013</td>\n",
       "    </tr>\n",
       "    <tr>\n",
       "      <th>8385506</th>\n",
       "      <td>2013-06-01</td>\n",
       "      <td>25.401</td>\n",
       "      <td>0.400</td>\n",
       "      <td>Yelahanka</td>\n",
       "      <td>India</td>\n",
       "      <td>13.66N</td>\n",
       "      <td>76.79E</td>\n",
       "      <td>2013</td>\n",
       "    </tr>\n",
       "    <tr>\n",
       "      <th>8385507</th>\n",
       "      <td>2013-07-01</td>\n",
       "      <td>24.232</td>\n",
       "      <td>0.323</td>\n",
       "      <td>Yelahanka</td>\n",
       "      <td>India</td>\n",
       "      <td>13.66N</td>\n",
       "      <td>76.79E</td>\n",
       "      <td>2013</td>\n",
       "    </tr>\n",
       "    <tr>\n",
       "      <th>8385508</th>\n",
       "      <td>2013-08-01</td>\n",
       "      <td>24.493</td>\n",
       "      <td>0.366</td>\n",
       "      <td>Yelahanka</td>\n",
       "      <td>India</td>\n",
       "      <td>13.66N</td>\n",
       "      <td>76.79E</td>\n",
       "      <td>2013</td>\n",
       "    </tr>\n",
       "    <tr>\n",
       "      <th>8385509</th>\n",
       "      <td>2013-09-01</td>\n",
       "      <td>NaN</td>\n",
       "      <td>NaN</td>\n",
       "      <td>Yelahanka</td>\n",
       "      <td>India</td>\n",
       "      <td>13.66N</td>\n",
       "      <td>76.79E</td>\n",
       "      <td>2013</td>\n",
       "    </tr>\n",
       "  </tbody>\n",
       "</table>\n",
       "<p>1014906 rows × 8 columns</p>\n",
       "</div>"
      ],
      "text/plain": [
       "                dt  AverageTemperature  AverageTemperatureUncertainty  \\\n",
       "49880   1816-03-01              19.934                          2.258   \n",
       "49881   1816-04-01              26.641                          3.398   \n",
       "49882   1816-05-01              32.535                          2.408   \n",
       "49883   1816-06-01              33.254                          2.123   \n",
       "49884   1816-07-01              31.105                          1.848   \n",
       "...            ...                 ...                            ...   \n",
       "8385505 2013-05-01              29.286                          0.516   \n",
       "8385506 2013-06-01              25.401                          0.400   \n",
       "8385507 2013-07-01              24.232                          0.323   \n",
       "8385508 2013-08-01              24.493                          0.366   \n",
       "8385509 2013-09-01                 NaN                            NaN   \n",
       "\n",
       "              City Country Latitude Longitude  Year  \n",
       "49880       Abohar   India   29.74N    73.85E  1816  \n",
       "49881       Abohar   India   29.74N    73.85E  1816  \n",
       "49882       Abohar   India   29.74N    73.85E  1816  \n",
       "49883       Abohar   India   29.74N    73.85E  1816  \n",
       "49884       Abohar   India   29.74N    73.85E  1816  \n",
       "...            ...     ...      ...       ...   ...  \n",
       "8385505  Yelahanka   India   13.66N    76.79E  2013  \n",
       "8385506  Yelahanka   India   13.66N    76.79E  2013  \n",
       "8385507  Yelahanka   India   13.66N    76.79E  2013  \n",
       "8385508  Yelahanka   India   13.66N    76.79E  2013  \n",
       "8385509  Yelahanka   India   13.66N    76.79E  2013  \n",
       "\n",
       "[1014906 rows x 8 columns]"
      ]
     },
     "execution_count": 36,
     "metadata": {},
     "output_type": "execute_result"
    }
   ],
   "source": [
    "country_india=df[df['Country']=='India']\n",
    "country_india"
   ]
  },
  {
   "cell_type": "code",
   "execution_count": 46,
   "id": "0010337f",
   "metadata": {},
   "outputs": [
    {
     "data": {
      "text/html": [
       "<div>\n",
       "<style scoped>\n",
       "    .dataframe tbody tr th:only-of-type {\n",
       "        vertical-align: middle;\n",
       "    }\n",
       "\n",
       "    .dataframe tbody tr th {\n",
       "        vertical-align: top;\n",
       "    }\n",
       "\n",
       "    .dataframe thead th {\n",
       "        text-align: right;\n",
       "    }\n",
       "</style>\n",
       "<table border=\"1\" class=\"dataframe\">\n",
       "  <thead>\n",
       "    <tr style=\"text-align: right;\">\n",
       "      <th></th>\n",
       "      <th>dt</th>\n",
       "      <th>AverageTemperature</th>\n",
       "      <th>AverageTemperatureUncertainty</th>\n",
       "      <th>City</th>\n",
       "      <th>Country</th>\n",
       "      <th>Latitude</th>\n",
       "      <th>Longitude</th>\n",
       "      <th>Year</th>\n",
       "    </tr>\n",
       "  </thead>\n",
       "  <tbody>\n",
       "    <tr>\n",
       "      <th>0</th>\n",
       "      <td>1816-03-01</td>\n",
       "      <td>19.934</td>\n",
       "      <td>2.258</td>\n",
       "      <td>Abohar</td>\n",
       "      <td>India</td>\n",
       "      <td>29.74N</td>\n",
       "      <td>73.85E</td>\n",
       "      <td>1816</td>\n",
       "    </tr>\n",
       "    <tr>\n",
       "      <th>1</th>\n",
       "      <td>1816-04-01</td>\n",
       "      <td>26.641</td>\n",
       "      <td>3.398</td>\n",
       "      <td>Abohar</td>\n",
       "      <td>India</td>\n",
       "      <td>29.74N</td>\n",
       "      <td>73.85E</td>\n",
       "      <td>1816</td>\n",
       "    </tr>\n",
       "    <tr>\n",
       "      <th>2</th>\n",
       "      <td>1816-05-01</td>\n",
       "      <td>32.535</td>\n",
       "      <td>2.408</td>\n",
       "      <td>Abohar</td>\n",
       "      <td>India</td>\n",
       "      <td>29.74N</td>\n",
       "      <td>73.85E</td>\n",
       "      <td>1816</td>\n",
       "    </tr>\n",
       "    <tr>\n",
       "      <th>3</th>\n",
       "      <td>1816-06-01</td>\n",
       "      <td>33.254</td>\n",
       "      <td>2.123</td>\n",
       "      <td>Abohar</td>\n",
       "      <td>India</td>\n",
       "      <td>29.74N</td>\n",
       "      <td>73.85E</td>\n",
       "      <td>1816</td>\n",
       "    </tr>\n",
       "    <tr>\n",
       "      <th>4</th>\n",
       "      <td>1816-07-01</td>\n",
       "      <td>31.105</td>\n",
       "      <td>1.848</td>\n",
       "      <td>Abohar</td>\n",
       "      <td>India</td>\n",
       "      <td>29.74N</td>\n",
       "      <td>73.85E</td>\n",
       "      <td>1816</td>\n",
       "    </tr>\n",
       "    <tr>\n",
       "      <th>...</th>\n",
       "      <td>...</td>\n",
       "      <td>...</td>\n",
       "      <td>...</td>\n",
       "      <td>...</td>\n",
       "      <td>...</td>\n",
       "      <td>...</td>\n",
       "      <td>...</td>\n",
       "      <td>...</td>\n",
       "    </tr>\n",
       "    <tr>\n",
       "      <th>960543</th>\n",
       "      <td>2013-04-01</td>\n",
       "      <td>29.800</td>\n",
       "      <td>0.375</td>\n",
       "      <td>Yelahanka</td>\n",
       "      <td>India</td>\n",
       "      <td>13.66N</td>\n",
       "      <td>76.79E</td>\n",
       "      <td>2013</td>\n",
       "    </tr>\n",
       "    <tr>\n",
       "      <th>960544</th>\n",
       "      <td>2013-05-01</td>\n",
       "      <td>29.286</td>\n",
       "      <td>0.516</td>\n",
       "      <td>Yelahanka</td>\n",
       "      <td>India</td>\n",
       "      <td>13.66N</td>\n",
       "      <td>76.79E</td>\n",
       "      <td>2013</td>\n",
       "    </tr>\n",
       "    <tr>\n",
       "      <th>960545</th>\n",
       "      <td>2013-06-01</td>\n",
       "      <td>25.401</td>\n",
       "      <td>0.400</td>\n",
       "      <td>Yelahanka</td>\n",
       "      <td>India</td>\n",
       "      <td>13.66N</td>\n",
       "      <td>76.79E</td>\n",
       "      <td>2013</td>\n",
       "    </tr>\n",
       "    <tr>\n",
       "      <th>960546</th>\n",
       "      <td>2013-07-01</td>\n",
       "      <td>24.232</td>\n",
       "      <td>0.323</td>\n",
       "      <td>Yelahanka</td>\n",
       "      <td>India</td>\n",
       "      <td>13.66N</td>\n",
       "      <td>76.79E</td>\n",
       "      <td>2013</td>\n",
       "    </tr>\n",
       "    <tr>\n",
       "      <th>960547</th>\n",
       "      <td>2013-08-01</td>\n",
       "      <td>24.493</td>\n",
       "      <td>0.366</td>\n",
       "      <td>Yelahanka</td>\n",
       "      <td>India</td>\n",
       "      <td>13.66N</td>\n",
       "      <td>76.79E</td>\n",
       "      <td>2013</td>\n",
       "    </tr>\n",
       "  </tbody>\n",
       "</table>\n",
       "<p>960548 rows × 8 columns</p>\n",
       "</div>"
      ],
      "text/plain": [
       "               dt  AverageTemperature  AverageTemperatureUncertainty  \\\n",
       "0      1816-03-01              19.934                          2.258   \n",
       "1      1816-04-01              26.641                          3.398   \n",
       "2      1816-05-01              32.535                          2.408   \n",
       "3      1816-06-01              33.254                          2.123   \n",
       "4      1816-07-01              31.105                          1.848   \n",
       "...           ...                 ...                            ...   \n",
       "960543 2013-04-01              29.800                          0.375   \n",
       "960544 2013-05-01              29.286                          0.516   \n",
       "960545 2013-06-01              25.401                          0.400   \n",
       "960546 2013-07-01              24.232                          0.323   \n",
       "960547 2013-08-01              24.493                          0.366   \n",
       "\n",
       "             City Country Latitude Longitude  Year  \n",
       "0          Abohar   India   29.74N    73.85E  1816  \n",
       "1          Abohar   India   29.74N    73.85E  1816  \n",
       "2          Abohar   India   29.74N    73.85E  1816  \n",
       "3          Abohar   India   29.74N    73.85E  1816  \n",
       "4          Abohar   India   29.74N    73.85E  1816  \n",
       "...           ...     ...      ...       ...   ...  \n",
       "960543  Yelahanka   India   13.66N    76.79E  2013  \n",
       "960544  Yelahanka   India   13.66N    76.79E  2013  \n",
       "960545  Yelahanka   India   13.66N    76.79E  2013  \n",
       "960546  Yelahanka   India   13.66N    76.79E  2013  \n",
       "960547  Yelahanka   India   13.66N    76.79E  2013  \n",
       "\n",
       "[960548 rows x 8 columns]"
      ]
     },
     "execution_count": 46,
     "metadata": {},
     "output_type": "execute_result"
    }
   ],
   "source": [
    "country=country_india.dropna(subset='AverageTemperature').reset_index(drop=True)\n",
    "country"
   ]
  },
  {
   "cell_type": "code",
   "execution_count": 63,
   "id": "e8b8b0d4",
   "metadata": {},
   "outputs": [
    {
     "data": {
      "text/plain": [
       "Year\n",
       "1796    25.444699\n",
       "1797    26.594590\n",
       "1798    25.054708\n",
       "1799    25.723100\n",
       "1800    25.693772\n",
       "          ...    \n",
       "2009    26.603119\n",
       "2010    26.549878\n",
       "2011    25.880499\n",
       "2012    26.191226\n",
       "2013    26.864186\n",
       "Name: AverageTemperature, Length: 213, dtype: float64"
      ]
     },
     "execution_count": 63,
     "metadata": {},
     "output_type": "execute_result"
    }
   ],
   "source": [
    "avg_temp=country.groupby('Year')['AverageTemperature'].mean()\n",
    "\n",
    "avg_temp"
   ]
  },
  {
   "cell_type": "code",
   "execution_count": 79,
   "id": "5388562a",
   "metadata": {},
   "outputs": [],
   "source": [
    "# [avg_temp.values[i:i+1] for i in range(len(avg_temp)-1)]"
   ]
  },
  {
   "cell_type": "code",
   "execution_count": 78,
   "id": "d2d0a5c2",
   "metadata": {},
   "outputs": [
    {
     "data": {
      "image/png": "[encoded data removed]",
      "text/plain": [
       "<Figure size 640x480 with 1 Axes>"
      ]
     },
     "metadata": {},
     "output_type": "display_data"
    }
   ],
   "source": [
    "plt.boxplot([avg_temp.values[:5],avg_temp.values[6:10]])\n",
    "plt.show()"
   ]
  },
  {
   "cell_type": "code",
   "execution_count": null,
   "id": "34c6495e",
   "metadata": {},
   "outputs": [],
   "source": []
  }
 ],
 "metadata": {
  "kernelspec": {
   "display_name": "Python 3 (ipykernel)",
   "language": "python",
   "name": "python3"
  },
  "language_info": {
   "codemirror_mode": {
    "name": "ipython",
    "version": 3
   },
   "file_extension": ".py",
   "mimetype": "text/x-python",
   "name": "python",
   "nbconvert_exporter": "python",
   "pygments_lexer": "ipython3",
   "version": "3.11.5"
  }
 },
 "nbformat": 4,
 "nbformat_minor": 5
}
